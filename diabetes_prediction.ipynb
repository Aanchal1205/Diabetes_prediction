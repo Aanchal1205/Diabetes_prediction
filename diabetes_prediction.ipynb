{
 "cells": [
  {
   "cell_type": "code",
   "execution_count": 1,
   "metadata": {},
   "outputs": [],
   "source": [
    "import pandas as pd\n",
    "import matplotlib.pyplot as plt\n",
    "import numpy as np\n",
    "import pickle\n",
    "from sklearn.model_selection import train_test_split\n",
    "from sklearn.preprocessing import StandardScaler\n",
    "from sklearn.neighbors import KNeighborsClassifier\n",
    "from sklearn.metrics import confusion_matrix\n",
    "from sklearn.metrics import accuracy_score"
   ]
  },
  {
   "cell_type": "code",
   "execution_count": 2,
   "metadata": {},
   "outputs": [],
   "source": [
    "data = pd.read_csv('diabetes.csv')\n",
    "real_x = data.iloc[:, 0:8].values"
   ]
  },
  {
   "cell_type": "code",
   "execution_count": 3,
   "metadata": {},
   "outputs": [],
   "source": [
    "real_y = data.iloc[:, 8].values\n",
    "training_x, testing_x, training_y, testing_y = train_test_split(real_x,real_y,test_size=0.25,random_state=0)\n",
    "#print(\"training X =\",training_x)\n",
    "s_c = StandardScaler()\n",
    "training_x = s_c.fit_transform(training_x)"
   ]
  },
  {
   "cell_type": "code",
   "execution_count": 5,
   "metadata": {},
   "outputs": [],
   "source": [
    "#print(\"training X =\",training_x)\n",
    "test_x = s_c.transform(testing_x)\n",
    "fil_name='scaler.sav'\n",
    "pickle.dump(s_c,open(fil_name,'wb'))\n",
    "#print(\"testing x\",test_x)\n",
    "cls = KNeighborsClassifier(n_neighbors=5, metric='minkowski', p=2)\n",
    "cls.fit(training_x,training_y)\n",
    "pickle.dump(cls, open('model.pkl','wb'))"
   ]
  },
  {
   "cell_type": "code",
   "execution_count": 6,
   "metadata": {},
   "outputs": [
    {
     "name": "stdout",
     "output_type": "stream",
     "text": [
      "[[114  16]\n",
      " [ 22  40]]\n",
      "0.8020833333333334\n"
     ]
    }
   ],
   "source": [
    "\n",
    "# model = pickle.load(open('model.pkl','rb'))\n",
    "#print(model.predict([[1, 89, 66, 23, 94, 28.1, 0.167, 21]]))\n",
    "y_pred = cls.predict(test_x)\n",
    "c_m = confusion_matrix(testing_y, y_pred)\n",
    "acc = accuracy_score(testing_y, y_pred)\n",
    "print(c_m)\n",
    "print(acc)"
   ]
  },
  {
   "cell_type": "code",
   "execution_count": null,
   "metadata": {},
   "outputs": [],
   "source": []
  }
 ],
 "metadata": {
  "kernelspec": {
   "display_name": "Python 3",
   "language": "python",
   "name": "python3"
  },
  "language_info": {
   "codemirror_mode": {
    "name": "ipython",
    "version": 3
   },
   "file_extension": ".py",
   "mimetype": "text/x-python",
   "name": "python",
   "nbconvert_exporter": "python",
   "pygments_lexer": "ipython3",
   "version": "3.8.5"
  }
 },
 "nbformat": 4,
 "nbformat_minor": 4
}
